{
 "cells": [
  {
   "cell_type": "markdown",
   "metadata": {},
   "source": [
    "# Load Data"
   ]
  },
  {
   "cell_type": "code",
   "execution_count": 1,
   "metadata": {},
   "outputs": [
    {
     "data": {
      "text/html": [
       "<div>\n",
       "<style scoped>\n",
       "    .dataframe tbody tr th:only-of-type {\n",
       "        vertical-align: middle;\n",
       "    }\n",
       "\n",
       "    .dataframe tbody tr th {\n",
       "        vertical-align: top;\n",
       "    }\n",
       "\n",
       "    .dataframe thead th {\n",
       "        text-align: right;\n",
       "    }\n",
       "</style>\n",
       "<table border=\"1\" class=\"dataframe\">\n",
       "  <thead>\n",
       "    <tr style=\"text-align: right;\">\n",
       "      <th></th>\n",
       "      <th>show_id</th>\n",
       "      <th>type</th>\n",
       "      <th>title</th>\n",
       "      <th>director</th>\n",
       "      <th>cast</th>\n",
       "      <th>country</th>\n",
       "      <th>date_added</th>\n",
       "      <th>release_year</th>\n",
       "      <th>rating</th>\n",
       "      <th>duration</th>\n",
       "      <th>listed_in</th>\n",
       "      <th>description</th>\n",
       "    </tr>\n",
       "  </thead>\n",
       "  <tbody>\n",
       "    <tr>\n",
       "      <th>0</th>\n",
       "      <td>s1</td>\n",
       "      <td>Movie</td>\n",
       "      <td>Dick Johnson Is Dead</td>\n",
       "      <td>Kirsten Johnson</td>\n",
       "      <td>NaN</td>\n",
       "      <td>United States</td>\n",
       "      <td>September 25, 2021</td>\n",
       "      <td>2020</td>\n",
       "      <td>PG-13</td>\n",
       "      <td>90 min</td>\n",
       "      <td>Documentaries</td>\n",
       "      <td>As her father nears the end of his life, filmm...</td>\n",
       "    </tr>\n",
       "    <tr>\n",
       "      <th>1</th>\n",
       "      <td>s2</td>\n",
       "      <td>TV Show</td>\n",
       "      <td>Blood &amp; Water</td>\n",
       "      <td>NaN</td>\n",
       "      <td>Ama Qamata, Khosi Ngema, Gail Mabalane, Thaban...</td>\n",
       "      <td>South Africa</td>\n",
       "      <td>September 24, 2021</td>\n",
       "      <td>2021</td>\n",
       "      <td>TV-MA</td>\n",
       "      <td>2 Seasons</td>\n",
       "      <td>International TV Shows, TV Dramas, TV Mysteries</td>\n",
       "      <td>After crossing paths at a party, a Cape Town t...</td>\n",
       "    </tr>\n",
       "    <tr>\n",
       "      <th>2</th>\n",
       "      <td>s3</td>\n",
       "      <td>TV Show</td>\n",
       "      <td>Ganglands</td>\n",
       "      <td>Julien Leclercq</td>\n",
       "      <td>Sami Bouajila, Tracy Gotoas, Samuel Jouy, Nabi...</td>\n",
       "      <td>NaN</td>\n",
       "      <td>September 24, 2021</td>\n",
       "      <td>2021</td>\n",
       "      <td>TV-MA</td>\n",
       "      <td>1 Season</td>\n",
       "      <td>Crime TV Shows, International TV Shows, TV Act...</td>\n",
       "      <td>To protect his family from a powerful drug lor...</td>\n",
       "    </tr>\n",
       "    <tr>\n",
       "      <th>3</th>\n",
       "      <td>s4</td>\n",
       "      <td>TV Show</td>\n",
       "      <td>Jailbirds New Orleans</td>\n",
       "      <td>NaN</td>\n",
       "      <td>NaN</td>\n",
       "      <td>NaN</td>\n",
       "      <td>September 24, 2021</td>\n",
       "      <td>2021</td>\n",
       "      <td>TV-MA</td>\n",
       "      <td>1 Season</td>\n",
       "      <td>Docuseries, Reality TV</td>\n",
       "      <td>Feuds, flirtations and toilet talk go down amo...</td>\n",
       "    </tr>\n",
       "    <tr>\n",
       "      <th>4</th>\n",
       "      <td>s5</td>\n",
       "      <td>TV Show</td>\n",
       "      <td>Kota Factory</td>\n",
       "      <td>NaN</td>\n",
       "      <td>Mayur More, Jitendra Kumar, Ranjan Raj, Alam K...</td>\n",
       "      <td>India</td>\n",
       "      <td>September 24, 2021</td>\n",
       "      <td>2021</td>\n",
       "      <td>TV-MA</td>\n",
       "      <td>2 Seasons</td>\n",
       "      <td>International TV Shows, Romantic TV Shows, TV ...</td>\n",
       "      <td>In a city of coaching centers known to train I...</td>\n",
       "    </tr>\n",
       "  </tbody>\n",
       "</table>\n",
       "</div>"
      ],
      "text/plain": [
       "  show_id     type                  title         director  \\\n",
       "0      s1    Movie   Dick Johnson Is Dead  Kirsten Johnson   \n",
       "1      s2  TV Show          Blood & Water              NaN   \n",
       "2      s3  TV Show              Ganglands  Julien Leclercq   \n",
       "3      s4  TV Show  Jailbirds New Orleans              NaN   \n",
       "4      s5  TV Show           Kota Factory              NaN   \n",
       "\n",
       "                                                cast        country  \\\n",
       "0                                                NaN  United States   \n",
       "1  Ama Qamata, Khosi Ngema, Gail Mabalane, Thaban...   South Africa   \n",
       "2  Sami Bouajila, Tracy Gotoas, Samuel Jouy, Nabi...            NaN   \n",
       "3                                                NaN            NaN   \n",
       "4  Mayur More, Jitendra Kumar, Ranjan Raj, Alam K...          India   \n",
       "\n",
       "           date_added  release_year rating   duration  \\\n",
       "0  September 25, 2021          2020  PG-13     90 min   \n",
       "1  September 24, 2021          2021  TV-MA  2 Seasons   \n",
       "2  September 24, 2021          2021  TV-MA   1 Season   \n",
       "3  September 24, 2021          2021  TV-MA   1 Season   \n",
       "4  September 24, 2021          2021  TV-MA  2 Seasons   \n",
       "\n",
       "                                           listed_in  \\\n",
       "0                                      Documentaries   \n",
       "1    International TV Shows, TV Dramas, TV Mysteries   \n",
       "2  Crime TV Shows, International TV Shows, TV Act...   \n",
       "3                             Docuseries, Reality TV   \n",
       "4  International TV Shows, Romantic TV Shows, TV ...   \n",
       "\n",
       "                                         description  \n",
       "0  As her father nears the end of his life, filmm...  \n",
       "1  After crossing paths at a party, a Cape Town t...  \n",
       "2  To protect his family from a powerful drug lor...  \n",
       "3  Feuds, flirtations and toilet talk go down amo...  \n",
       "4  In a city of coaching centers known to train I...  "
      ]
     },
     "execution_count": 1,
     "metadata": {},
     "output_type": "execute_result"
    }
   ],
   "source": [
    "import pandas as pd\n",
    "\n",
    "data = pd.read_csv(\"netflix_titles.csv\")\n",
    "data.head()"
   ]
  },
  {
   "cell_type": "code",
   "execution_count": 2,
   "metadata": {},
   "outputs": [
    {
     "data": {
      "text/plain": [
       "show_id            0\n",
       "type               0\n",
       "title              0\n",
       "director        2634\n",
       "cast             825\n",
       "country          831\n",
       "date_added        10\n",
       "release_year       0\n",
       "rating             4\n",
       "duration           3\n",
       "listed_in          0\n",
       "description        0\n",
       "dtype: int64"
      ]
     },
     "execution_count": 2,
     "metadata": {},
     "output_type": "execute_result"
    }
   ],
   "source": [
    "data.isna().sum()"
   ]
  },
  {
   "cell_type": "markdown",
   "metadata": {},
   "source": [
    "# Text Vectorization"
   ]
  },
  {
   "cell_type": "code",
   "execution_count": 8,
   "metadata": {},
   "outputs": [
    {
     "name": "stdout",
     "output_type": "stream",
     "text": [
      "  (0, 8490)\t0.3343968649216488\n",
      "  (0, 6082)\t0.19901300008553238\n",
      "  (0, 7801)\t0.16337546298647904\n",
      "  (0, 18310)\t0.22546933050146495\n",
      "  (0, 3464)\t0.3085992782573314\n",
      "  (0, 8758)\t0.3085992782573314\n",
      "  (0, 4344)\t0.18019746807827544\n",
      "  (0, 15937)\t0.2770645038300997\n",
      "  (0, 9031)\t0.31538493113752597\n",
      "  (0, 9347)\t0.34948748572937866\n",
      "  (0, 6376)\t0.22751854806078578\n",
      "  (0, 9766)\t0.12494777897557835\n",
      "  (0, 5596)\t0.22228636194461462\n",
      "  (0, 11313)\t0.302862090494417\n",
      "  (0, 6209)\t0.16130387477651925\n",
      "  (0, 5008)\t0.12328949072223687\n"
     ]
    }
   ],
   "source": [
    "from sklearn.feature_extraction.text import TfidfVectorizer\n",
    "from sklearn.model_selection import train_test_split\n",
    "\n",
    "# Combine relevant info\n",
    "data['text_representation'] = data['listed_in'] + ' ' + data['description']\n",
    "\n",
    "# Fit TF-IDF and transform to sparse matrix\n",
    "tfidf_vectorizer = TfidfVectorizer(stop_words='english')\n",
    "tfidf_matrix = tfidf_vectorizer.fit_transform(data['text_representation'])\n",
    "\n",
    "# Sparse matrix can't be used as input for neural net; convert to numpy array\n",
    "tfidf_matrix_dense = tfidf_matrix.toarray()\n",
    "X_train, X_test = train_test_split(tfidf_matrix_dense, test_size=0.2, random_state=42)\n",
    "\n",
    "print(tfidf_matrix[0])"
   ]
  },
  {
   "cell_type": "markdown",
   "metadata": {},
   "source": [
    "# Autoencoder"
   ]
  },
  {
   "cell_type": "code",
   "execution_count": 27,
   "metadata": {},
   "outputs": [
    {
     "data": {
      "text/plain": [
       "18895"
      ]
     },
     "execution_count": 27,
     "metadata": {},
     "output_type": "execute_result"
    }
   ],
   "source": [
    "import tensorflow as tf\n",
    "from keras import models, layers, Input\n",
    "\n",
    "input_dim = X_train.shape[1]\n",
    "encoding_dim = 128\n",
    "\n",
    "# Define autoencoder architecture\n",
    "autoencoder = models.Sequential([\n",
    "    Input(shape=(input_dim,)),\n",
    "    layers.Dense(encoding_dim, activation='relu'),\n",
    "    layers.Dense(input_dim, activation='sigmoid')\n",
    "])\n",
    "\n",
    "input_dim"
   ]
  },
  {
   "cell_type": "code",
   "execution_count": 5,
   "metadata": {},
   "outputs": [
    {
     "name": "stdout",
     "output_type": "stream",
     "text": [
      "WARNING:tensorflow:From c:\\Users\\smithr38\\.virtualenvs\\Final-v2DFHwHr\\Lib\\site-packages\\keras\\src\\backend\\common\\global_state.py:74: The name tf.reset_default_graph is deprecated. Please use tf.compat.v1.reset_default_graph instead.\n",
      "\n",
      "Epoch 1/50\n",
      "\u001b[1m28/28\u001b[0m \u001b[32m━━━━━━━━━━━━━━━━━━━━\u001b[0m\u001b[37m\u001b[0m \u001b[1m5s\u001b[0m 147ms/step - loss: 0.6887 - val_loss: 0.6537\n",
      "Epoch 2/50\n",
      "\u001b[1m28/28\u001b[0m \u001b[32m━━━━━━━━━━━━━━━━━━━━\u001b[0m\u001b[37m\u001b[0m \u001b[1m4s\u001b[0m 131ms/step - loss: 0.6014 - val_loss: 0.3570\n",
      "Epoch 3/50\n",
      "\u001b[1m28/28\u001b[0m \u001b[32m━━━━━━━━━━━━━━━━━━━━\u001b[0m\u001b[37m\u001b[0m \u001b[1m4s\u001b[0m 132ms/step - loss: 0.2619 - val_loss: 0.0857\n",
      "Epoch 4/50\n",
      "\u001b[1m28/28\u001b[0m \u001b[32m━━━━━━━━━━━━━━━━━━━━\u001b[0m\u001b[37m\u001b[0m \u001b[1m4s\u001b[0m 136ms/step - loss: 0.0597 - val_loss: 0.0299\n",
      "Epoch 5/50\n",
      "\u001b[1m28/28\u001b[0m \u001b[32m━━━━━━━━━━━━━━━━━━━━\u001b[0m\u001b[37m\u001b[0m \u001b[1m4s\u001b[0m 134ms/step - loss: 0.0226 - val_loss: 0.0170\n",
      "Epoch 6/50\n",
      "\u001b[1m28/28\u001b[0m \u001b[32m━━━━━━━━━━━━━━━━━━━━\u001b[0m\u001b[37m\u001b[0m \u001b[1m4s\u001b[0m 142ms/step - loss: 0.0132 - val_loss: 0.0118\n",
      "Epoch 7/50\n",
      "\u001b[1m28/28\u001b[0m \u001b[32m━━━━━━━━━━━━━━━━━━━━\u001b[0m\u001b[37m\u001b[0m \u001b[1m4s\u001b[0m 134ms/step - loss: 0.0092 - val_loss: 0.0090\n",
      "Epoch 8/50\n",
      "\u001b[1m28/28\u001b[0m \u001b[32m━━━━━━━━━━━━━━━━━━━━\u001b[0m\u001b[37m\u001b[0m \u001b[1m4s\u001b[0m 129ms/step - loss: 0.0071 - val_loss: 0.0073\n",
      "Epoch 9/50\n",
      "\u001b[1m28/28\u001b[0m \u001b[32m━━━━━━━━━━━━━━━━━━━━\u001b[0m\u001b[37m\u001b[0m \u001b[1m4s\u001b[0m 128ms/step - loss: 0.0058 - val_loss: 0.0062\n",
      "Epoch 10/50\n",
      "\u001b[1m28/28\u001b[0m \u001b[32m━━━━━━━━━━━━━━━━━━━━\u001b[0m\u001b[37m\u001b[0m \u001b[1m3s\u001b[0m 118ms/step - loss: 0.0049 - val_loss: 0.0053\n",
      "Epoch 11/50\n",
      "\u001b[1m28/28\u001b[0m \u001b[32m━━━━━━━━━━━━━━━━━━━━\u001b[0m\u001b[37m\u001b[0m \u001b[1m3s\u001b[0m 120ms/step - loss: 0.0043 - val_loss: 0.0047\n",
      "Epoch 12/50\n",
      "\u001b[1m28/28\u001b[0m \u001b[32m━━━━━━━━━━━━━━━━━━━━\u001b[0m\u001b[37m\u001b[0m \u001b[1m3s\u001b[0m 120ms/step - loss: 0.0038 - val_loss: 0.0043\n",
      "Epoch 13/50\n",
      "\u001b[1m28/28\u001b[0m \u001b[32m━━━━━━━━━━━━━━━━━━━━\u001b[0m\u001b[37m\u001b[0m \u001b[1m3s\u001b[0m 119ms/step - loss: 0.0035 - val_loss: 0.0039\n",
      "Epoch 14/50\n",
      "\u001b[1m28/28\u001b[0m \u001b[32m━━━━━━━━━━━━━━━━━━━━\u001b[0m\u001b[37m\u001b[0m \u001b[1m3s\u001b[0m 119ms/step - loss: 0.0032 - val_loss: 0.0036\n",
      "Epoch 15/50\n",
      "\u001b[1m28/28\u001b[0m \u001b[32m━━━━━━━━━━━━━━━━━━━━\u001b[0m\u001b[37m\u001b[0m \u001b[1m3s\u001b[0m 119ms/step - loss: 0.0030 - val_loss: 0.0034\n",
      "Epoch 16/50\n",
      "\u001b[1m28/28\u001b[0m \u001b[32m━━━━━━━━━━━━━━━━━━━━\u001b[0m\u001b[37m\u001b[0m \u001b[1m3s\u001b[0m 118ms/step - loss: 0.0028 - val_loss: 0.0032\n",
      "Epoch 17/50\n",
      "\u001b[1m28/28\u001b[0m \u001b[32m━━━━━━━━━━━━━━━━━━━━\u001b[0m\u001b[37m\u001b[0m \u001b[1m3s\u001b[0m 118ms/step - loss: 0.0027 - val_loss: 0.0030\n"
     ]
    }
   ],
   "source": [
    "from keras import callbacks\n",
    "\n",
    "tf.keras.backend.clear_session()\n",
    "\n",
    "autoencoder.compile(optimizer='adam', loss='binary_crossentropy')\n",
    "\n",
    "# Fit autoencoder; stop early if validation loss is not improving\n",
    "cb = [\n",
    "    callbacks.EarlyStopping(\n",
    "        monitor=\"val_loss\",\n",
    "        min_delta=0.001,\n",
    "        patience=3,\n",
    "    )\n",
    "]\n",
    "autoencoder.fit(X_train, X_train, epochs=50, batch_size=256, shuffle=True, validation_data=(X_test, X_test), callbacks=cb)\n",
    "\n",
    "# Extract encoder part, leaving out decoder\n",
    "encoder = models.Model(inputs=autoencoder.layers[0].input, outputs=autoencoder.layers[0].output)"
   ]
  },
  {
   "cell_type": "code",
   "execution_count": 6,
   "metadata": {},
   "outputs": [],
   "source": [
    "from sklearn.metrics.pairwise import cosine_similarity\n",
    "\n",
    "def recommend_encoder(title, data=data, encoder=encoder):\n",
    "    idx = data[data['title'] == title].index[0]\n",
    "    input_vector = tfidf_matrix_dense[idx]\n",
    "    \n",
    "    encoded_input = encoder.predict(input_vector.reshape(1, -1))    \n",
    "    similarity_scores = cosine_similarity(encoded_input, encoder.predict(tfidf_matrix_dense))\n",
    "    \n",
    "    # Sort scores and get indices of top 10 scores\n",
    "    similar_indices = similarity_scores.argsort()[0][-11:-1]\n",
    "    \n",
    "    return data.iloc[similar_indices]['title']"
   ]
  },
  {
   "cell_type": "code",
   "execution_count": 7,
   "metadata": {},
   "outputs": [
    {
     "name": "stdout",
     "output_type": "stream",
     "text": [
      "\u001b[1m1/1\u001b[0m \u001b[32m━━━━━━━━━━━━━━━━━━━━\u001b[0m\u001b[37m\u001b[0m \u001b[1m0s\u001b[0m 32ms/step\n",
      "\u001b[1m276/276\u001b[0m \u001b[32m━━━━━━━━━━━━━━━━━━━━\u001b[0m\u001b[37m\u001b[0m \u001b[1m1s\u001b[0m 2ms/step\n"
     ]
    },
    {
     "data": {
      "text/plain": [
       "4773                  How It Ends\n",
       "6741                Fatal Destiny\n",
       "1834                     Start-Up\n",
       "2670                      Hasmukh\n",
       "4495           Marvel's Daredevil\n",
       "4310                    Travelers\n",
       "6228            Bangkok Bachelors\n",
       "8021     Sin senos no hay paraíso\n",
       "1559    The Mess You Leave Behind\n",
       "2400                   The Search\n",
       "Name: title, dtype: object"
      ]
     },
     "execution_count": 7,
     "metadata": {},
     "output_type": "execute_result"
    }
   ],
   "source": [
    "recommendations = recommend_encoder(\"Breaking Bad\")\n",
    "recommendations"
   ]
  },
  {
   "cell_type": "code",
   "execution_count": 8,
   "metadata": {},
   "outputs": [
    {
     "name": "stdout",
     "output_type": "stream",
     "text": [
      "Crime TV Shows, TV Dramas, TV Thrillers\n",
      "A high school chemistry teacher dying of cancer teams with a former student to secure his family's future by manufacturing and selling crystal meth.\n"
     ]
    }
   ],
   "source": [
    "print(data[data['title'] == \"Breaking Bad\"].iloc[0].listed_in)\n",
    "print(data[data['title'] == \"Breaking Bad\"].iloc[0].description)"
   ]
  },
  {
   "cell_type": "code",
   "execution_count": 9,
   "metadata": {},
   "outputs": [
    {
     "name": "stdout",
     "output_type": "stream",
     "text": [
      "Title: How It Ends\n",
      "Listed in: Action & Adventure, Sci-Fi & Fantasy\n",
      "Description: When a mysterious disaster turns the country into a war zone, a young lawyer heads west with his future father-in-law to find his pregnant fiancée.\n",
      "\n",
      "Title: Fatal Destiny\n",
      "Listed in: Crime TV Shows, International TV Shows, TV Action & Adventure\n",
      "Description: A young man from a humble family is drawn into a life of crime – and soon confronts a determined cop in hot pursuit.\n",
      "\n",
      "Title: Start-Up\n",
      "Listed in: International TV Shows, Romantic TV Shows, TV Comedies\n",
      "Description: Young entrepreneurs aspiring to launch virtual dreams into reality compete for success and love in the cutthroat world of Korea's high-tech industry.\n",
      "\n",
      "Title: Hasmukh\n",
      "Listed in: Crime TV Shows, International TV Shows, TV Comedies\n",
      "Description: A timid, small-town comedian's long-awaited big break takes a dark turn when he realizes committing murder is the only way to keep his onstage mojo.\n",
      "\n",
      "Title: Marvel's Daredevil\n",
      "Listed in: Crime TV Shows, TV Action & Adventure\n",
      "Description: Blinded as a young boy, Matt Murdock fights injustice by day as a lawyer and by night as the Super Hero Daredevil in Hell's Kitchen, New York City.\n",
      "\n",
      "Title: Travelers\n",
      "Listed in: Crime TV Shows, International TV Shows, TV Dramas\n",
      "Description: A federal agent tracks four people who suddenly seem to possess entirely new personalities, leading to a startling discovery about humanity's future.\n",
      "\n",
      "Title: Bangkok Bachelors\n",
      "Listed in: International TV Shows, Romantic TV Shows, TV Comedies\n",
      "Description: Three young men leading carefree bachelors’ lives in the city face the trials of true love when they meet three beautiful women.\n",
      "\n",
      "Title: Sin senos no hay paraíso\n",
      "Listed in: International TV Shows, Spanish-Language TV Shows, TV Dramas\n",
      "Description: Inspired by a true story, this TV drama shadows a young Colombian woman who goes to shocking lengths to escape a life of poverty.\n",
      "\n",
      "Title: The Mess You Leave Behind\n",
      "Listed in: International TV Shows, Spanish-Language TV Shows, TV Dramas\n",
      "Description: A teacher starts her job at a high school but is haunted by a suspicious death that occurred there weeks before... and begins fearing for her own life.\n",
      "\n",
      "Title: The Search\n",
      "Listed in: Crime TV Shows, International TV Shows, Spanish-Language TV Shows\n",
      "Description: When a girl vanishes from a suburb near Mexico City, the personal goals of some involved in the case muddy the search. Based on a true story.\n",
      "\n"
     ]
    }
   ],
   "source": [
    "for movie in recommendations:\n",
    "    print(\"Title:\", data[data['title'] == movie].iloc[0].title)\n",
    "    print(\"Listed in:\", data[data['title'] == movie].iloc[0].listed_in)\n",
    "    print(\"Description:\", data[data['title'] == movie].iloc[0].description)\n",
    "    print()"
   ]
  },
  {
   "cell_type": "markdown",
   "metadata": {},
   "source": [
    "# K-Means"
   ]
  },
  {
   "cell_type": "code",
   "execution_count": 10,
   "metadata": {},
   "outputs": [
    {
     "data": {
      "image/png": "[encoded data removed]",
      "text/plain": [
       "<Figure size 1000x500 with 1 Axes>"
      ]
     },
     "metadata": {},
     "output_type": "display_data"
    },
    {
     "data": {
      "image/png": "[encoded data removed]",
      "text/plain": [
       "<Figure size 1000x500 with 1 Axes>"
      ]
     },
     "metadata": {},
     "output_type": "display_data"
    }
   ],
   "source": [
    "import matplotlib.pyplot as plt\n",
    "from sklearn.cluster import KMeans\n",
    "from sklearn.metrics import silhouette_score\n",
    "\n",
    "wcss = []  # Values for elbow curve\n",
    "silhouette_scores = []\n",
    "max_k = 30\n",
    "k_range = range(2, max_k + 1)\n",
    "\n",
    "for k in k_range:\n",
    "    kmeans = KMeans(n_clusters=k, random_state=42)\n",
    "    kmeans.fit(tfidf_matrix)\n",
    "    wcss.append(kmeans.inertia_)\n",
    "    silhouette_scores.append(silhouette_score(tfidf_matrix, kmeans.labels_))\n",
    "\n",
    "# Plot elbow curve\n",
    "plt.figure(figsize=(10, 5))\n",
    "plt.plot(k_range, wcss, marker='o')\n",
    "plt.title('Elbow Method')\n",
    "plt.xlabel('Number of Clusters')\n",
    "plt.ylabel('WCSS')\n",
    "plt.xticks(k_range)\n",
    "plt.grid(True)\n",
    "plt.show()\n",
    "\n",
    "# Plot silhouette scores\n",
    "plt.figure(figsize=(10, 5))\n",
    "plt.plot(k_range, silhouette_scores, marker='o')\n",
    "plt.title('Silhouette Score')\n",
    "plt.xlabel('Number of Clusters')\n",
    "plt.ylabel('Silhouette Score')\n",
    "plt.xticks(k_range)\n",
    "plt.grid(True)\n",
    "plt.show()"
   ]
  },
  {
   "cell_type": "code",
   "execution_count": 11,
   "metadata": {},
   "outputs": [],
   "source": [
    "# Perform K-Means clustering\n",
    "num_clusters = 15\n",
    "kmeans = KMeans(n_clusters=num_clusters)\n",
    "kmeans.fit(tfidf_matrix)\n",
    "\n",
    "data['cluster_label'] = kmeans.labels_"
   ]
  },
  {
   "cell_type": "code",
   "execution_count": 30,
   "metadata": {},
   "outputs": [
    {
     "name": "stdout",
     "output_type": "stream",
     "text": [
      "Title: Ganglands\n",
      "Listed in: Crime TV Shows, International TV Shows, TV Action & Adventure\n",
      "Description: To protect his family from a powerful drug lord, skilled thief Mehdi and his expert team of robbers are pulled into a violent and deadly turf war.\n",
      "\n",
      "Title: Vendetta: Truth, Lies and The Mafia\n",
      "Listed in: Crime TV Shows, Docuseries, International TV Shows\n",
      "Description: Sicily boasts a bold \"Anti-Mafia\" coalition. But what happens when those trying to bring down organized crime are accused of being criminals themselves?\n",
      "\n",
      "Title: Bangkok Breaking\n",
      "Listed in: Crime TV Shows, International TV Shows, TV Action & Adventure\n",
      "Description: Struggling to earn a living in Bangkok, a man joins an emergency rescue service and realizes he must unravel a citywide conspiracy.\n",
      "\n",
      "Title: Crime Stories: India Detectives\n",
      "Listed in: British TV Shows, Crime TV Shows, Docuseries\n",
      "Description: Cameras following Bengaluru police on the job offer a rare glimpse into the complex and challenging inner workings of four major crime investigations.\n",
      "\n",
      "Title: Falsa identidad\n",
      "Listed in: Crime TV Shows, Spanish-Language TV Shows, TV Dramas\n",
      "Description: Strangers Diego and Isabel flee their home in Mexico and pretend to be a married couple to escape his drug-dealing enemies and her abusive husband.\n",
      "\n",
      "Title: Monsters Inside: The 24 Faces of Billy Milligan\n",
      "Listed in: Crime TV Shows, Docuseries, International TV Shows\n",
      "Description: In the late 1970s, an accused serial rapist claims multiple personalities control his behavior, setting off a legal odyssey that captivates America.\n",
      "\n",
      "Title: Lucifer\n",
      "Listed in: Crime TV Shows, TV Comedies, TV Dramas\n",
      "Description: Bored with being the Lord of Hell, the devil relocates to Los Angeles, where he opens a nightclub and forms a connection with a homicide detective.\n",
      "\n",
      "Title: La casa de papel\n",
      "Listed in: Crime TV Shows, International TV Shows, Spanish-Language TV Shows\n",
      "Description: Eight thieves take hostages and lock themselves in the Royal Mint of Spain as a criminal mastermind manipulates the police to carry out his plan.\n",
      "\n",
      "Title: Q-Force\n",
      "Listed in: Crime TV Shows, TV Action & Adventure, TV Comedies\n",
      "Description: A gay superspy and his scrappy LGBTQ squad fight to prove themselves to the agency that underestimated them. Today, West Hollywood… tomorrow, the world!\n",
      "\n",
      "Title: King of Boys: The Return of the King\n",
      "Listed in: Crime TV Shows, International TV Shows, TV Dramas\n",
      "Description: Alhaja Eniola Salami starts anew and sets her sights on a different position of power, fueled by revenge, regret and ruthlessness.\n",
      "\n"
     ]
    }
   ],
   "source": [
    "for i, movie in data[data['cluster_label'] == 9].head(n=10).iterrows():\n",
    "    print(\"Title:\", movie.title)\n",
    "    print(\"Listed in:\", movie.listed_in)\n",
    "    print(\"Description:\", movie.description)\n",
    "    print()"
   ]
  },
  {
   "cell_type": "code",
   "execution_count": 34,
   "metadata": {},
   "outputs": [],
   "source": [
    "def recommend_kmeans(title, data=data, tfidf_matrix=tfidf_matrix):\n",
    "    idx = data[data['title'] == title].index[0]\n",
    "    cluster_label = data.iloc[idx]['cluster_label']\n",
    "    print(\"Cluster label:\", cluster_label)\n",
    "    \n",
    "    # Filter movies in the same cluster\n",
    "    cluster_movies = data[data['cluster_label'] == cluster_label]\n",
    "    \n",
    "    similarity_scores = cosine_similarity(tfidf_matrix[idx], tfidf_matrix[cluster_movies.index])\n",
    "    \n",
    "    # Sort scores and get indices of top 10 scores\n",
    "    similar_movie_indices = similarity_scores.argsort()[0][-11:-1]\n",
    "    \n",
    "    return data.iloc[cluster_movies.index[similar_movie_indices]]['title']"
   ]
  },
  {
   "cell_type": "code",
   "execution_count": 35,
   "metadata": {},
   "outputs": [
    {
     "name": "stdout",
     "output_type": "stream",
     "text": [
      "Cluster label: 9\n"
     ]
    },
    {
     "data": {
      "text/plain": [
       "4636                              American Vandal\n",
       "6841                                   Get Shorty\n",
       "679                                 The Judgement\n",
       "385               How to Sell Drugs Online (Fast)\n",
       "3361                                       Tunnel\n",
       "4664                             Age of Rebellion\n",
       "3855                                   The Writer\n",
       "4143                                       Sparta\n",
       "5352    Have You Ever Fallen in Love, Miss Jiang?\n",
       "2606                              Extracurricular\n",
       "Name: title, dtype: object"
      ]
     },
     "execution_count": 35,
     "metadata": {},
     "output_type": "execute_result"
    }
   ],
   "source": [
    "recommendations = recommend_kmeans(\"Breaking Bad\")\n",
    "recommendations"
   ]
  },
  {
   "cell_type": "code",
   "execution_count": 14,
   "metadata": {},
   "outputs": [
    {
     "name": "stdout",
     "output_type": "stream",
     "text": [
      "Crime TV Shows, TV Dramas, TV Thrillers\n",
      "A high school chemistry teacher dying of cancer teams with a former student to secure his family's future by manufacturing and selling crystal meth.\n"
     ]
    }
   ],
   "source": [
    "print(data[data['title'] == \"Breaking Bad\"].iloc[0].listed_in)\n",
    "print(data[data['title'] == \"Breaking Bad\"].iloc[0].description)"
   ]
  },
  {
   "cell_type": "code",
   "execution_count": 38,
   "metadata": {},
   "outputs": [
    {
     "name": "stdout",
     "output_type": "stream",
     "text": [
      "Title: American Vandal\n",
      "Listed in: Crime TV Shows, TV Comedies, Teen TV Shows\n",
      "Description: A high school is rocked by an act of vandalism, but the top suspect pleads innocence and finds an ally in a filmmaker. A satirical true crime mystery.\n",
      "\n",
      "Title: Get Shorty\n",
      "Listed in: Crime TV Shows, TV Comedies, TV Dramas\n",
      "Description: Organized crime enforcer Miles Daly strives to reinvent himself as a Hollywood filmmaker in this satire based on Elmore Leonard's best-selling novel.\n",
      "\n",
      "Title: The Judgement\n",
      "Listed in: Crime TV Shows, International TV Shows, TV Dramas\n",
      "Description: After a traumatic incident at a party makes her a target of gossip and derision, a young college student tries to change her school's toxic culture.\n",
      "\n",
      "Title: How to Sell Drugs Online (Fast)\n",
      "Listed in: Crime TV Shows, International TV Shows, TV Comedies\n",
      "Description: To win back his ex-girlfriend, a nerdy teen starts selling ecstasy online out of his bedroom – and becomes one of Europe's biggest dealers.\n",
      "\n",
      "Title: Tunnel\n",
      "Listed in: Crime TV Shows, International TV Shows, TV Dramas\n",
      "Description: A detective finds himself 30 years in the future and must solve a string of grisly crimes before he can return to the past.\n",
      "\n",
      "Title: Age of Rebellion\n",
      "Listed in: Crime TV Shows, International TV Shows, TV Dramas\n",
      "Description: At their high school, a group of unruly teens wreak havoc, face bullies and navigate turbulent lives beyond school grounds.\n",
      "\n",
      "Title: The Writer\n",
      "Listed in: Crime TV Shows, International TV Shows, TV Dramas\n",
      "Description: When accused of a murder eerily parallel to a plot in his novel, a best-selling crime writer must navigate a web of hidden enemies.\n",
      "\n",
      "Title: Sparta\n",
      "Listed in: Crime TV Shows, International TV Shows, TV Dramas\n",
      "Description: While investigating the mysterious death of a teacher, a grizzled detective gets caught up in the world of a high-stakes virtual reality game.\n",
      "\n",
      "Title: Have You Ever Fallen in Love, Miss Jiang?\n",
      "Listed in: Crime TV Shows, International TV Shows, TV Dramas\n",
      "Description: A new teacher finds herself in an unenviable situation after witnessing a troubling interaction between an administrator and a student.\n",
      "\n",
      "Title: Extracurricular\n",
      "Listed in: Crime TV Shows, International TV Shows, Korean TV Shows\n",
      "Description: A model high school student who's steeped in a world of serious crime finds his double life upended when a classmate takes an interest in his secret.\n",
      "\n"
     ]
    }
   ],
   "source": [
    "for movie in recommendations:\n",
    "    print(\"Title:\", data[data['title'] == movie].iloc[0].title)\n",
    "    print(\"Listed in:\", data[data['title'] == movie].iloc[0].listed_in)\n",
    "    print(\"Description:\", data[data['title'] == movie].iloc[0].description)\n",
    "    print()"
   ]
  }
 ],
 "metadata": {
  "kernelspec": {
   "display_name": "Final-v2DFHwHr",
   "language": "python",
   "name": "python3"
  },
  "language_info": {
   "codemirror_mode": {
    "name": "ipython",
    "version": 3
   },
   "file_extension": ".py",
   "mimetype": "text/x-python",
   "name": "python",
   "nbconvert_exporter": "python",
   "pygments_lexer": "ipython3",
   "version": "3.11.7"
  }
 },
 "nbformat": 4,
 "nbformat_minor": 2
}
